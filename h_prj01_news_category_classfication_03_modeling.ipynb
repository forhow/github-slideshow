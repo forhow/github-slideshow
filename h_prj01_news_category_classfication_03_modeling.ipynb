{
  "nbformat": 4,
  "nbformat_minor": 0,
  "metadata": {
    "colab": {
      "name": "h_prj01_news_category_classfication_03_modeling.ipynb",
      "provenance": [],
      "authorship_tag": "ABX9TyM1/x+2pmJa1tXtkr3/U8sK"
    },
    "kernelspec": {
      "name": "python3",
      "display_name": "Python 3"
    },
    "language_info": {
      "name": "python"
    },
    "accelerator": "GPU"
  },
  "cells": [
    {
      "cell_type": "markdown",
      "metadata": {
        "id": "Ab4tXGMWk70-"
      },
      "source": [
        "## Modeling\n"
      ]
    },
    {
      "cell_type": "code",
      "metadata": {
        "id": "VRIhwDfBk24G"
      },
      "source": [
        "import pandas as pd\n",
        "import numpy as np\n",
        "import matplotlib.pyplot as plt\n",
        "from tensorflow.keras.models import Sequential\n",
        "from tensorflow.keras.layers import *"
      ],
      "execution_count": 1,
      "outputs": []
    },
    {
      "cell_type": "code",
      "metadata": {
        "colab": {
          "base_uri": "https://localhost:8080/"
        },
        "id": "AYBylEUZlNHL",
        "outputId": "e6fc6314-6996-481a-ab29-671647d9ad1e"
      },
      "source": [
        "# data upload 및 load\n",
        "X_train, X_test, Y_train, Y_test = np.load('/content/datasets/news_data_max_27_size_24151.npy', allow_pickle=True)\n",
        "# X_train, X_test, Y_train, Y_test = np.load('/content/datasets/news_data_max_16_size_984.npy', allow_pickle=True)\n",
        "\n",
        "print(X_train.shape)\n",
        "print(X_test.shape)\n",
        "print(Y_train.shape)\n",
        "print(Y_test.shape)"
      ],
      "execution_count": 2,
      "outputs": [
        {
          "output_type": "stream",
          "text": [
            "(24367, 27)\n",
            "(2708, 27)\n",
            "(24367, 6)\n",
            "(2708, 6)\n"
          ],
          "name": "stdout"
        }
      ]
    },
    {
      "cell_type": "code",
      "metadata": {
        "colab": {
          "base_uri": "https://localhost:8080/"
        },
        "id": "5_F4Pvaumu75",
        "outputId": "bf3734d0-491a-4c53-b268-b0b46a6a3cfc"
      },
      "source": [
        "# modeling\n",
        "# embedding : vectorizing 수행 \n",
        "# - labeling 된 자료를 n차원으로 만들어 단어들 간의 수치적 관계를 설정\n",
        "# input_length : \n",
        "# 차원이 커지면 더 많은 데이터가 필요, 학습이 되지 않는 문제가 발생함.\n",
        "# - 차원이 너무 많이 커지지 않도록 일정 크기로 차원을 제한,\n",
        "model = Sequential()\n",
        "model.add(Embedding(24151, 300, input_length=27))\n",
        "\n",
        "# 단어간의 관계를 해석하기 위한 도구로 conv1D 사용\n",
        "model.add(Conv1D(32, kernel_size=5, padding='same', activation='relu'))\n",
        "model.add(MaxPool1D(pool_size=1))\n",
        "# 순서가 있는 데이터 분석이므로 LSTM 적용,\n",
        "# returen sequence :True : LSTM 과정의 모든 결괏값이 출력됨, False 최종 결괏값만 출력\n",
        "#                   LSTM을 중복으로 사용할 경우 순서대로 출력할 수 있도록 True적용\n",
        "#                   맨 마지막 layer에 False 사용가능하나 Flatten() 함께 사용해야 함\n",
        "model.add(LSTM(128, activation='tanh', return_sequences=True))\n",
        "model.add(Dropout(0.3))\n",
        "model.add(LSTM(64, activation='tanh', return_sequences=True))\n",
        "model.add(Dropout(0.3))\n",
        "model.add(LSTM(64, activation='tanh', return_sequences=False))\n",
        "model.add(Dropout(0.3))\n",
        "model.add(Flatten())\n",
        "model.add(Dense(128, activation='relu'))\n",
        "model.add(Dense(6, activation='softmax'))\n",
        "\n",
        "print(model.summary())\n"
      ],
      "execution_count": 3,
      "outputs": [
        {
          "output_type": "stream",
          "text": [
            "Model: \"sequential\"\n",
            "_________________________________________________________________\n",
            "Layer (type)                 Output Shape              Param #   \n",
            "=================================================================\n",
            "embedding (Embedding)        (None, 27, 300)           7245300   \n",
            "_________________________________________________________________\n",
            "conv1d (Conv1D)              (None, 27, 32)            48032     \n",
            "_________________________________________________________________\n",
            "max_pooling1d (MaxPooling1D) (None, 27, 32)            0         \n",
            "_________________________________________________________________\n",
            "lstm (LSTM)                  (None, 27, 128)           82432     \n",
            "_________________________________________________________________\n",
            "dropout (Dropout)            (None, 27, 128)           0         \n",
            "_________________________________________________________________\n",
            "lstm_1 (LSTM)                (None, 27, 64)            49408     \n",
            "_________________________________________________________________\n",
            "dropout_1 (Dropout)          (None, 27, 64)            0         \n",
            "_________________________________________________________________\n",
            "lstm_2 (LSTM)                (None, 64)                33024     \n",
            "_________________________________________________________________\n",
            "dropout_2 (Dropout)          (None, 64)                0         \n",
            "_________________________________________________________________\n",
            "flatten (Flatten)            (None, 64)                0         \n",
            "_________________________________________________________________\n",
            "dense (Dense)                (None, 128)               8320      \n",
            "_________________________________________________________________\n",
            "dense_1 (Dense)              (None, 6)                 774       \n",
            "=================================================================\n",
            "Total params: 7,467,290\n",
            "Trainable params: 7,467,290\n",
            "Non-trainable params: 0\n",
            "_________________________________________________________________\n",
            "None\n"
          ],
          "name": "stdout"
        }
      ]
    },
    {
      "cell_type": "code",
      "metadata": {
        "colab": {
          "base_uri": "https://localhost:8080/"
        },
        "id": "_4Doh-VmsDTA",
        "outputId": "1061f2ea-0c4a-4d8c-8537-4340a1f764c5"
      },
      "source": [
        "model.compile(loss='categorical_crossentropy', optimizer='adam', metrics=['accuracy'])\n",
        "\n",
        "fit_hist = model.fit(X_train, Y_train, \n",
        "                     epochs=8, \n",
        "                     batch_size=100, \n",
        "                     validation_data=(X_test, Y_test))\n"
      ],
      "execution_count": 4,
      "outputs": [
        {
          "output_type": "stream",
          "text": [
            "Epoch 1/8\n",
            "244/244 [==============================] - 57s 86ms/step - loss: 1.4345 - accuracy: 0.3963 - val_loss: 1.0649 - val_accuracy: 0.6211\n",
            "Epoch 2/8\n",
            "244/244 [==============================] - 20s 80ms/step - loss: 0.8004 - accuracy: 0.7346 - val_loss: 0.7492 - val_accuracy: 0.7570\n",
            "Epoch 3/8\n",
            "244/244 [==============================] - 20s 81ms/step - loss: 0.4910 - accuracy: 0.8439 - val_loss: 0.7894 - val_accuracy: 0.7533\n",
            "Epoch 4/8\n",
            "244/244 [==============================] - 20s 81ms/step - loss: 0.3210 - accuracy: 0.9015 - val_loss: 0.8558 - val_accuracy: 0.7363\n",
            "Epoch 5/8\n",
            "244/244 [==============================] - 20s 81ms/step - loss: 0.2333 - accuracy: 0.9319 - val_loss: 0.8947 - val_accuracy: 0.7515\n",
            "Epoch 6/8\n",
            "244/244 [==============================] - 20s 81ms/step - loss: 0.1727 - accuracy: 0.9506 - val_loss: 1.0270 - val_accuracy: 0.7482\n",
            "Epoch 7/8\n",
            "244/244 [==============================] - 20s 80ms/step - loss: 0.1364 - accuracy: 0.9619 - val_loss: 1.0837 - val_accuracy: 0.7437\n",
            "Epoch 8/8\n",
            "244/244 [==============================] - 20s 80ms/step - loss: 0.1117 - accuracy: 0.9691 - val_loss: 1.1647 - val_accuracy: 0.7500\n"
          ],
          "name": "stdout"
        }
      ]
    },
    {
      "cell_type": "code",
      "metadata": {
        "colab": {
          "base_uri": "https://localhost:8080/",
          "height": 300
        },
        "id": "LjtqtJNkxYSV",
        "outputId": "26c7445b-7a64-4a35-819d-069720eeb45a"
      },
      "source": [
        "plt.plot(fit_hist.history['loss'])\n",
        "plt.show()\n",
        "score = model.evaluate(X_test, Y_test, verbose=1)\n",
        "print(score[1])"
      ],
      "execution_count": 5,
      "outputs": [
        {
          "output_type": "display_data",
          "data": {
            "image/png": "[encoded data removed]",
            "text/plain": [
              "<Figure size 432x288 with 1 Axes>"
            ]
          },
          "metadata": {
            "tags": [],
            "needs_background": "light"
          }
        },
        {
          "output_type": "stream",
          "text": [
            "85/85 [==============================] - 1s 6ms/step - loss: 1.1647 - accuracy: 0.7500\n",
            "0.75\n"
          ],
          "name": "stdout"
        }
      ]
    },
    {
      "cell_type": "code",
      "metadata": {
        "id": "t0V7XnkRxqsl"
      },
      "source": [
        "model.save('/content/models/news_classification_{}.h5'.format(score[1]))"
      ],
      "execution_count": 6,
      "outputs": []
    }
  ]
}